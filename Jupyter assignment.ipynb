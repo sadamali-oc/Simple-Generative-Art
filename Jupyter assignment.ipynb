{
 "cells": [
  {
   "cell_type": "code",
   "execution_count": 10,
   "id": "811880dd",
   "metadata": {},
   "outputs": [],
   "source": [
    "import turtle"
   ]
  },
  {
   "cell_type": "code",
   "execution_count": 11,
   "id": "bccf6706",
   "metadata": {},
   "outputs": [],
   "source": [
    "colors=['red','yellow','green','purple','blue','orange']\n"
   ]
  },
  {
   "cell_type": "code",
   "execution_count": 14,
   "id": "63b49f7d",
   "metadata": {},
   "outputs": [],
   "source": [
    "t=turtle.Pen()\n",
    "turtle.bgcolor('black')\n"
   ]
  },
  {
   "cell_type": "code",
   "execution_count": null,
   "id": "fe742929",
   "metadata": {},
   "outputs": [],
   "source": [
    "for x in range(200):\n",
    "    t.pencolor(colors[x%6])\n",
    "    t.width(x/100+1)\n",
    "    t.forward(x)\n",
    "    t.left(59)"
   ]
  },
  {
   "cell_type": "code",
   "execution_count": null,
   "id": "7e874687",
   "metadata": {},
   "outputs": [],
   "source": []
  }
 ],
 "metadata": {
  "kernelspec": {
   "display_name": "Python 3 (ipykernel)",
   "language": "python",
   "name": "python3"
  },
  "language_info": {
   "codemirror_mode": {
    "name": "ipython",
    "version": 3
   },
   "file_extension": ".py",
   "mimetype": "text/x-python",
   "name": "python",
   "nbconvert_exporter": "python",
   "pygments_lexer": "ipython3",
   "version": "3.10.4"
  }
 },
 "nbformat": 4,
 "nbformat_minor": 5
}
